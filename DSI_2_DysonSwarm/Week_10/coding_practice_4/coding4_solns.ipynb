{
 "cells": [
  {
   "cell_type": "code",
   "execution_count": 31,
   "metadata": {
    "collapsed": true
   },
   "outputs": [],
   "source": [
    "import timeit\n",
    "import pandas as pd\n",
    "import numpy as np\n",
    "import itertools\n",
    "from operator import mul"
   ]
  },
  {
   "cell_type": "code",
   "execution_count": 32,
   "metadata": {
    "collapsed": true
   },
   "outputs": [],
   "source": [
    "# Solutions for: 1. Maximum product of three elements\n",
    "# There are 4 solutions below. \n",
    "\n",
    "arr = [-300, -100, -200, 10, 400, 30, 40, 100, 200, 50]\n",
    "arr2 = [2, 7, 1, 8, 2, 8, 4, 5, 9, 0, 4, 5, 9, 8, 7, 6, 5, 4, 3, 2, 1, 0]"
   ]
  },
  {
   "cell_type": "code",
   "execution_count": 33,
   "metadata": {
    "collapsed": true
   },
   "outputs": [],
   "source": [
    "def max_product_quick(arr):\n",
    "    '''Sorts the array\n",
    "    Returns the max of either:\n",
    "    the two smallest * the largest\n",
    "    or\n",
    "    the 3 largest\n",
    "    '''\n",
    "    arr.sort()\n",
    "    \n",
    "    first = arr[0]*arr[1]*arr[-1]\n",
    "    \n",
    "    second = arr[-1]*arr[-2]*arr[-3]\n",
    "    \n",
    "    return max(first, second)"
   ]
  },
  {
   "cell_type": "code",
   "execution_count": 38,
   "metadata": {
    "collapsed": false
   },
   "outputs": [
    {
     "name": "stdout",
     "output_type": "stream",
     "text": [
      "100000 loops, best of 3: 11.7 µs per loop\n"
     ]
    }
   ],
   "source": [
    "# let's see how fast this function is:\n",
    "\n",
    "%timeit for x in range(10): max_product_quick(arr)"
   ]
  },
  {
   "cell_type": "code",
   "execution_count": 34,
   "metadata": {
    "collapsed": true
   },
   "outputs": [],
   "source": [
    "def get_largest_prod(l):\n",
    "    products = [np.prod([l[i], l[j], l[k]]) for i,_ in enumerate(l) \n",
    "                for j,_ in enumerate(l)  for k,_ in enumerate(l) if i!= j and j != k and i != k]\n",
    "    return max(products)"
   ]
  },
  {
   "cell_type": "code",
   "execution_count": 40,
   "metadata": {
    "collapsed": false
   },
   "outputs": [
    {
     "name": "stdout",
     "output_type": "stream",
     "text": [
      "10 loops, best of 3: 60.9 ms per loop\n"
     ]
    }
   ],
   "source": [
    "%timeit for x in range(10): get_largest_prod(arr)"
   ]
  },
  {
   "cell_type": "code",
   "execution_count": 35,
   "metadata": {
    "collapsed": true
   },
   "outputs": [],
   "source": [
    "def maximizer(list):\n",
    "    list.sort(key=(lambda x:(x**2)**.5), reverse=True)\n",
    "    for i in range(len(list)-2):\n",
    "        if list[i]*list[i+1]*list[i+2]>0:\n",
    "            return list[i]*list[i+1]*list[i+2]\n",
    "    return list[-1]*list[-2]*list[-3]"
   ]
  },
  {
   "cell_type": "code",
   "execution_count": 41,
   "metadata": {
    "collapsed": false
   },
   "outputs": [
    {
     "name": "stdout",
     "output_type": "stream",
     "text": [
      "10000 loops, best of 3: 77.3 µs per loop\n"
     ]
    }
   ],
   "source": [
    "%timeit for x in range(10): maximizer(arr)"
   ]
  },
  {
   "cell_type": "code",
   "execution_count": 36,
   "metadata": {
    "collapsed": true
   },
   "outputs": [],
   "source": [
    "def maxproduct(arr):\n",
    "    maxp = 0\n",
    "    for subset in itertools.combinations(arr, 3):\n",
    "        product = reduce(mul, subset, 1)\n",
    "        if product > maxp:\n",
    "            maxp = product\n",
    "    return maxp"
   ]
  },
  {
   "cell_type": "code",
   "execution_count": 42,
   "metadata": {
    "collapsed": false
   },
   "outputs": [
    {
     "name": "stdout",
     "output_type": "stream",
     "text": [
      "1000 loops, best of 3: 743 µs per loop\n"
     ]
    }
   ],
   "source": [
    "%timeit for x in range(10): maxproduct(arr)"
   ]
  },
  {
   "cell_type": "code",
   "execution_count": 9,
   "metadata": {
    "collapsed": true
   },
   "outputs": [],
   "source": [
    "def onePass(m):\n",
    "    n = [i for i in m]\n",
    "    a = max(n)\n",
    "    n.remove(a)\n",
    "    b = max(n)\n",
    "    n.remove(b)\n",
    "    c = max(n)\n",
    "    n.remove(c)\n",
    "    \n",
    "    d = min(n)\n",
    "    n.remove(d)\n",
    "    e = min(n)\n",
    "    n.remove(e)\n",
    "    \n",
    "    one = a * b * c\n",
    "    two = a * d * e\n",
    "    maxProduct = max(one, two)\n",
    "    return maxProduct"
   ]
  },
  {
   "cell_type": "code",
   "execution_count": 43,
   "metadata": {
    "collapsed": false
   },
   "outputs": [
    {
     "name": "stdout",
     "output_type": "stream",
     "text": [
      "10000 loops, best of 3: 47.8 µs per loop\n"
     ]
    }
   ],
   "source": [
    "%timeit for x in range(10): onePass(arr)"
   ]
  },
  {
   "cell_type": "code",
   "execution_count": null,
   "metadata": {
    "collapsed": true
   },
   "outputs": [],
   "source": []
  },
  {
   "cell_type": "code",
   "execution_count": null,
   "metadata": {
    "collapsed": true
   },
   "outputs": [],
   "source": [
    "# Solutions for: 2. Maximize profit from stock sale\n",
    "# There are 5 solutions below. \n",
    "# Use timeit to see which is fastest..."
   ]
  },
  {
   "cell_type": "code",
   "execution_count": null,
   "metadata": {
    "collapsed": true
   },
   "outputs": [],
   "source": [
    "def max_profit_brute_force(arr):\n",
    "    '''Checks every pair. Nested for loop'''\n",
    "    # Store the best possible profit we can make; initially this is 0.\n",
    "    bestProfit = 0\n",
    "\n",
    "    # Iterate across all pairs and find the best out of all of them.  As a\n",
    "    # minor optimization, we don't consider any pair consisting of a single\n",
    "    # element twice, since we already know that we get profit 0 from this.\n",
    "    for i in range(0, len(arr)):\n",
    "        for j in range (i + 1, len(arr)):\n",
    "            bestProfit = max(bestProfit, arr[j] - arr[i])\n",
    "\n",
    "    return bestProfit"
   ]
  },
  {
   "cell_type": "code",
   "execution_count": null,
   "metadata": {
    "collapsed": true
   },
   "outputs": [],
   "source": [
    "def max_profit_brute_force_2(arr):\n",
    "    # same function as above, but with print in function to see how it is working....\n",
    "    bestProfit = 0\n",
    "    \n",
    "    for i in range(0, len(arr)):\n",
    "        for j in range(i +1, len(arr)):\n",
    "            print \"current Best Profit: {}\".format(bestProfit)\n",
    "            print \"test against: ({}) - ({})\".format(arr[j], arr[i])\n",
    "            bestProfit = max(bestProfit, arr[j] - arr[i])\n",
    "            \n",
    "    return bestProfit"
   ]
  },
  {
   "cell_type": "code",
   "execution_count": null,
   "metadata": {
    "collapsed": true
   },
   "outputs": [],
   "source": [
    "def max_profit_dynamic(arr):\n",
    "    '''Keeps track of the lowest value so far. Checks the best profit at each step'''\n",
    "    # Keep track of the best possible profit and the lowest value\n",
    "    # seen so far.\n",
    "    profit = 0\n",
    "    cheapest = arr[0]\n",
    "\n",
    "    # Iterate across the array, updating our answer as we go \n",
    "    for i in range(1, len(arr)):\n",
    "        # Update the minimum value to be the lower of the existing minimum and\n",
    "        # the new minimum.\n",
    "        cheapest = min(cheapest, arr[i])\n",
    "\n",
    "        # Update the maximum profit to be the larger of the old profit and the\n",
    "        # profit made by buying at the lowest value and selling at the current\n",
    "        # price.\n",
    "        profit = max(profit, arr[i] - cheapest)\n",
    "\n",
    "    return profit"
   ]
  },
  {
   "cell_type": "code",
   "execution_count": null,
   "metadata": {
    "collapsed": true
   },
   "outputs": [],
   "source": [
    "# Student solutions..."
   ]
  },
  {
   "cell_type": "code",
   "execution_count": null,
   "metadata": {
    "collapsed": true
   },
   "outputs": [],
   "source": [
    "def max_profit(l):\n",
    "    difference = [l[j]-l[i] for i,_ in enumerate(l) for j,_ in enumerate(l) if i != j]\n",
    "    return max(difference)"
   ]
  },
  {
   "cell_type": "code",
   "execution_count": null,
   "metadata": {
    "collapsed": true
   },
   "outputs": [],
   "source": [
    "import itertools\n",
    "\n",
    "def maxprofit_2(arr):\n",
    "    maxp = 0\n",
    "    for subset in itertools.combinations(arr, 2):\n",
    "        diff = np.diff(subset)\n",
    "        if diff > maxp:\n",
    "            maxp = diff\n",
    "    return maxp[0]"
   ]
  }
 ],
 "metadata": {
  "kernelspec": {
   "display_name": "Python 2",
   "language": "python",
   "name": "python2"
  },
  "language_info": {
   "codemirror_mode": {
    "name": "ipython",
    "version": 2
   },
   "file_extension": ".py",
   "mimetype": "text/x-python",
   "name": "python",
   "nbconvert_exporter": "python",
   "pygments_lexer": "ipython2",
   "version": "2.7.9"
  }
 },
 "nbformat": 4,
 "nbformat_minor": 0
}
